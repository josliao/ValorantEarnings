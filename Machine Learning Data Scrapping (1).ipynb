{
 "cells": [
  {
   "cell_type": "code",
   "execution_count": null,
   "metadata": {},
   "outputs": [],
   "source": [
    "from selenium import webdriver\n",
    "import time\n",
    "import csv\n",
    "\n",
    "chromedriver_path = \"/chromedriver.exe\"\n",
    "# Create a new instance of the Chrome driver\n",
    "driver = webdriver.Chrome(executable_path=chromedriver_path)\n",
    "\n",
    "home_url = \"https://www.vlr.gg/stats/?event_group_id=all&event_id=all&region=na&country=all&min_rounds=200&min_rating=1550&agent=all&map_id=all&timespan=all\"\n",
    "driver.get(home_url)\n",
    "html_page = driver.page_source\n",
    "soup = BeautifulSoup(html_page,\"lxml\")\n",
    "links = [x['href'] for x in soup.find_all('a') if x.has_attr('href') and x['href'].find('/player') > -1 ]"
   ]
  },
  {
   "cell_type": "code",
   "execution_count": null,
   "metadata": {},
   "outputs": [],
   "source": [
    "html_page = driver.page_source\n",
    "soup = BeautifulSoup(html_page,\"lxml\")\n",
    "parent_node = soup.find('div', {\"class\":\"player-summary-container-2\"})"
   ]
  },
  {
   "cell_type": "code",
   "execution_count": null,
   "metadata": {},
   "outputs": [],
   "source": [
    "wfcard_nodes = [x for x in parent_node.find_all('div', {\"class\": \"wf-card\"})]"
   ]
  },
  {
   "cell_type": "code",
   "execution_count": null,
   "metadata": {},
   "outputs": [],
   "source": [
    "wfcard_nodes[1].find('span').text"
   ]
  },
  {
   "cell_type": "code",
   "execution_count": null,
   "metadata": {},
   "outputs": [],
   "source": [
    "def grab_total_winnings(html_page):\n",
    "    soup = BeautifulSoup(html_page,\"lxml\")\n",
    "    parent_node = soup.find('div', {\"class\":\"player-summary-container-2\"})\n",
    "    wfcard_nodes = [x for x in parent_node.find_all('div', {\"class\": \"wf-card\"})]\n",
    "    for panel in wfcard_nodes:\n",
    "        if panel.text.find('Total Winnings') > -1:\n",
    "            winnings = panel.find('span').text\n",
    "            return winnings"
   ]
  },
  {
   "cell_type": "code",
   "execution_count": null,
   "metadata": {},
   "outputs": [],
   "source": [
    "soup = BeautifulSoup(html_page,\"lxml\")\n",
    "parent_node = soup.find('div', {\"class\":\"player-summary-container-2\"})\n",
    "wfcard_nodes = [x for x in parent_node.find_all('div', {\"class\": \"wf-card\"})]\n",
    "for panel in wfcard_nodes:\n",
    "    if panel.text.find('Total Winnings') > -1:\n",
    "        winnings = panel.find('span').text\n",
    "        print(winnings)"
   ]
  },
  {
   "cell_type": "code",
   "execution_count": null,
   "metadata": {},
   "outputs": [],
   "source": [
    "from tqdm.notebook import tqdm"
   ]
  },
  {
   "cell_type": "code",
   "execution_count": null,
   "metadata": {},
   "outputs": [],
   "source": [
    "base_url = 'https://www.vlr.gg'\n",
    "payload=[]\n",
    "for player_link in tqdm(links):\n",
    "    url = f\"{base_url}{player_link}\"\n",
    "    driver.get(url)\n",
    "    html_page = driver.page_source\n",
    "    winnings = grab_total_winnings(html_page)\n",
    "    payload.append({'player':player_link,'winnings':winnings})\n",
    "    time.sleep(5)"
   ]
  },
  {
   "cell_type": "code",
   "execution_count": 77,
   "metadata": {},
   "outputs": [
    {
     "data": {
      "text/html": [
       "<div>\n",
       "<style scoped>\n",
       "    .dataframe tbody tr th:only-of-type {\n",
       "        vertical-align: middle;\n",
       "    }\n",
       "\n",
       "    .dataframe tbody tr th {\n",
       "        vertical-align: top;\n",
       "    }\n",
       "\n",
       "    .dataframe thead th {\n",
       "        text-align: right;\n",
       "    }\n",
       "</style>\n",
       "<table border=\"1\" class=\"dataframe\">\n",
       "  <thead>\n",
       "    <tr style=\"text-align: right;\">\n",
       "      <th></th>\n",
       "      <th>player</th>\n",
       "      <th>winnings</th>\n",
       "      <th>player_short</th>\n",
       "    </tr>\n",
       "  </thead>\n",
       "  <tbody>\n",
       "    <tr>\n",
       "      <th>0</th>\n",
       "      <td>/player/2450/rustun</td>\n",
       "      <td>$3,725</td>\n",
       "      <td>rustun</td>\n",
       "    </tr>\n",
       "    <tr>\n",
       "      <th>1</th>\n",
       "      <td>/player/3998/bewd</td>\n",
       "      <td>$731</td>\n",
       "      <td>bewd</td>\n",
       "    </tr>\n",
       "    <tr>\n",
       "      <th>2</th>\n",
       "      <td>/player/3062/benita</td>\n",
       "      <td>$35,520</td>\n",
       "      <td>benita</td>\n",
       "    </tr>\n",
       "    <tr>\n",
       "      <th>3</th>\n",
       "      <td>/player/52/joshrt</td>\n",
       "      <td>$805</td>\n",
       "      <td>joshrt</td>\n",
       "    </tr>\n",
       "    <tr>\n",
       "      <th>4</th>\n",
       "      <td>/player/3111/laisha</td>\n",
       "      <td>$0</td>\n",
       "      <td>laisha</td>\n",
       "    </tr>\n",
       "  </tbody>\n",
       "</table>\n",
       "</div>"
      ],
      "text/plain": [
       "                player winnings player_short\n",
       "0  /player/2450/rustun   $3,725       rustun\n",
       "1    /player/3998/bewd     $731         bewd\n",
       "2  /player/3062/benita  $35,520       benita\n",
       "3    /player/52/joshrt     $805       joshrt\n",
       "4  /player/3111/laisha       $0       laisha"
      ]
     },
     "execution_count": 77,
     "metadata": {},
     "output_type": "execute_result"
    }
   ],
   "source": [
    "import pandas as pd\n",
    "#df = pd.DataFrame(payload)    \n",
    "#df['player_short'] = df.player.apply(lambda x: x.split('/')[-1])\n",
    "#df.to_csv('player_winnings.csv')\n",
    "\n",
    "df2 = pd.DataFrame(payload2)   \n",
    "df2['player_short'] = df2.player.apply(lambda x: x.split('/')[-1])\n",
    "df2.to_csv('player_winnings_version2.csv')\n",
    "df2.head()"
   ]
  },
  {
   "cell_type": "code",
   "execution_count": 88,
   "metadata": {},
   "outputs": [
    {
     "name": "stdout",
     "output_type": "stream",
     "text": [
      "132\n"
     ]
    }
   ],
   "source": [
    "#df.head()\n",
    "tail_list = set(links) - set(df.player.to_list())\n",
    "print(len(tail_list))"
   ]
  },
  {
   "cell_type": "code",
   "execution_count": 89,
   "metadata": {},
   "outputs": [
    {
     "data": {
      "application/vnd.jupyter.widget-view+json": {
       "model_id": "25027e0e5d9a4a189c906c956910189c",
       "version_major": 2,
       "version_minor": 0
      },
      "text/plain": [
       "HBox(children=(FloatProgress(value=0.0, max=132.0), HTML(value='')))"
      ]
     },
     "metadata": {},
     "output_type": "display_data"
    },
    {
     "name": "stdout",
     "output_type": "stream",
     "text": [
      "\n"
     ]
    }
   ],
   "source": [
    "base_url = 'https://www.vlr.gg'\n",
    "payload2=[]\n",
    "for player_link in tqdm(tail_list):\n",
    "    url = f\"{base_url}{player_link}\"\n",
    "    driver.get(url)\n",
    "    html_page = driver.page_source\n",
    "    winnings = grab_total_winnings(html_page)\n",
    "    payload2.append({'player':player_link,'winnings':winnings})\n",
    "    time.sleep(5)\n",
    "df2 = pd.DataFrame(payload2)   \n",
    "df2['player_short'] = df2.player.apply(lambda x: x.split('/')[-1])\n",
    "df2.to_csv('player_winnings_version3.csv')"
   ]
  },
  {
   "cell_type": "code",
   "execution_count": 91,
   "metadata": {},
   "outputs": [],
   "source": [
    "#df1 = pd.read_csv(\"player_winnings.csv\")\n",
    "#print(df1.shape)\n",
    "#df2 = pd.read_csv(\"player_winnings_version2.csv\")\n",
    "#print(df2.shape)\n",
    "#df = pd.concat([df1,df2])\n",
    "#df_full.to_csv(\"player_winnings_full.csv\")\n",
    "df_full = pd.concat([df,df2])\n",
    "df_full.shape\n",
    "df_full.to_csv(\"player_winnings_full.csv\")"
   ]
  }
 ],
 "metadata": {
  "kernelspec": {
   "display_name": "Python 3",
   "language": "python",
   "name": "python3"
  },
  "language_info": {
   "codemirror_mode": {
    "name": "ipython",
    "version": 3
   },
   "file_extension": ".py",
   "mimetype": "text/x-python",
   "name": "python",
   "nbconvert_exporter": "python",
   "pygments_lexer": "ipython3",
   "version": "3.8.3"
  }
 },
 "nbformat": 4,
 "nbformat_minor": 5
}
